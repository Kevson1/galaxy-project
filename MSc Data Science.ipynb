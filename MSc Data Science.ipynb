{
 "cells": [
  {
   "cell_type": "markdown",
   "id": "97cba50d-9e03-44c2-9b9b-3355ace04cf5",
   "metadata": {},
   "source": [
    "# MSc Data Science and Analytics 2024 Scholarship Award Exam"
   ]
  },
  {
   "cell_type": "markdown",
   "id": "cdf223db-5430-4e00-b3c4-d01afcdfe5fd",
   "metadata": {},
   "source": [
    "## Data Description\n",
    "The data contains `80 variables` that characterise the demographic and socio-economic situation of 181 galaxis over a period of at most 26 years. A composite index that measures the `well-being` of the galaxies has been given. However, the demographic and socio-economic variables that influence this index is not known.\n",
    "\n",
    "## Research Question:\n",
    "### `What makes the galaxies better off?` i.e:\n",
    "- Which Variables best explains the variance of the well-being index?\n",
    "\n",
    "## Research Task:\n",
    "### `Determine the future well-being values of the galaxies`"
   ]
  },
  {
   "cell_type": "markdown",
   "id": "da497ca0-435a-4415-b771-b32d91703ec5",
   "metadata": {},
   "source": [
    "## Import the required dependencies"
   ]
  },
  {
   "cell_type": "code",
   "execution_count": 1,
   "id": "6341de70-04b8-4a48-989e-4b546e48ce1b",
   "metadata": {},
   "outputs": [],
   "source": [
    "import pandas as pd # imports the pandas library\n",
    "import numpy as np # imports the numpy library\n",
    "import matplotlib.pyplot as plt # imports the matplotlib library\n",
    "import seaborn as sns\n",
    "\n",
    "%matplotlib inline"
   ]
  },
  {
   "cell_type": "markdown",
   "id": "00527bbc-b5e7-4df2-8d38-85753e3f04b9",
   "metadata": {},
   "source": [
    "## Load the data into pandas dataframes"
   ]
  },
  {
   "cell_type": "code",
   "execution_count": 4,
   "id": "03991fef-7064-4eac-9c24-9d7d82a2500c",
   "metadata": {},
   "outputs": [],
   "source": [
    "# Load the train data into a pandas dataframe\n",
    "train_df = pd.read_csv(\"data/MSC DSA Scholars Exam Data (1)/Data/Train_data.csv\")\n",
    "\n",
    "# Load the validation data into a pandas dataframe\n",
    "validation_df = pd.read_csv(\"data/MSC DSA Scholars Exam Data (1)/Data/Validation.csv\")"
   ]
  },
  {
   "cell_type": "markdown",
   "id": "7178596c-21f2-468e-b963-2e87b2a47839",
   "metadata": {},
   "source": [
    "## Assessing the data"
   ]
  },
  {
   "cell_type": "code",
   "execution_count": null,
   "id": "ad6978c1-ac8c-4609-8c65-000213bbb806",
   "metadata": {},
   "outputs": [],
   "source": [
    "train"
   ]
  },
  {
   "cell_type": "code",
   "execution_count": null,
   "id": "7e2b664b-42c5-4841-bc70-41818befacd4",
   "metadata": {},
   "outputs": [],
   "source": []
  },
  {
   "cell_type": "code",
   "execution_count": null,
   "id": "ed01b68c-2df6-40dc-8682-2644e8653689",
   "metadata": {},
   "outputs": [],
   "source": []
  },
  {
   "cell_type": "code",
   "execution_count": null,
   "id": "d422f75f-af2c-4bca-8851-03369706101b",
   "metadata": {},
   "outputs": [],
   "source": []
  },
  {
   "cell_type": "code",
   "execution_count": null,
   "id": "f0d179ab-6a3e-4df5-b2d6-b9105147d686",
   "metadata": {},
   "outputs": [],
   "source": []
  },
  {
   "cell_type": "markdown",
   "id": "e04cfa30-9d7e-473f-9aca-6177c9c210d8",
   "metadata": {},
   "source": [
    "## Assessment Findings\n"
   ]
  },
  {
   "cell_type": "code",
   "execution_count": null,
   "id": "b71b8be4-8b4b-412b-b8c4-93416cb88401",
   "metadata": {},
   "outputs": [],
   "source": []
  },
  {
   "cell_type": "markdown",
   "id": "75c91297-019f-42f2-a9bd-2c2ad3cfee51",
   "metadata": {},
   "source": [
    "## Data Cleaning and Manipulation"
   ]
  },
  {
   "cell_type": "code",
   "execution_count": null,
   "id": "46737e52-0a09-482a-a701-e50101beb273",
   "metadata": {},
   "outputs": [],
   "source": []
  },
  {
   "cell_type": "code",
   "execution_count": null,
   "id": "33cea98f-3922-42d2-941f-54d194f65489",
   "metadata": {},
   "outputs": [],
   "source": []
  },
  {
   "cell_type": "code",
   "execution_count": null,
   "id": "870ed63d-ee18-41da-94e5-84fa7d7173c2",
   "metadata": {},
   "outputs": [],
   "source": []
  }
 ],
 "metadata": {
  "kernelspec": {
   "display_name": "Python 3 (ipykernel)",
   "language": "python",
   "name": "python3"
  },
  "language_info": {
   "codemirror_mode": {
    "name": "ipython",
    "version": 3
   },
   "file_extension": ".py",
   "mimetype": "text/x-python",
   "name": "python",
   "nbconvert_exporter": "python",
   "pygments_lexer": "ipython3",
   "version": "3.11.5"
  }
 },
 "nbformat": 4,
 "nbformat_minor": 5
}
